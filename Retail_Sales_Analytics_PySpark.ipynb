{
  "nbformat": 4,
  "nbformat_minor": 0,
  "metadata": {
    "colab": {
      "provenance": []
    },
    "kernelspec": {
      "name": "python3",
      "display_name": "Python 3"
    },
    "language_info": {
      "name": "python"
    }
  },
  "cells": [
    {
      "cell_type": "markdown",
      "source": [
        "**Step 1: Spark Setup**\n",
        "\n",
        "**Goal**: Set up Apache Spark in Google Colab using PySpark so we can process large datasets in a distributed fashion."
      ],
      "metadata": {
        "id": "mNi7aAlKfj6q"
      }
    },
    {
      "cell_type": "code",
      "source": [
        "# 1. Install Java & Spark\n",
        "!apt-get install openjdk-11-jdk-headless -qq > /dev/null\n",
        "!wget -q https://archive.apache.org/dist/spark/spark-3.3.0/spark-3.3.0-bin-hadoop3.tgz\n",
        "!tar -xzf spark-3.3.0-bin-hadoop3.tgz\n",
        "!pip install -q findspark\n",
        "\n",
        "# 2. Set environment variables\n",
        "import os\n",
        "os.environ[\"JAVA_HOME\"] = \"/usr/lib/jvm/java-11-openjdk-amd64\"\n",
        "os.environ[\"SPARK_HOME\"] = \"/content/spark-3.3.0-bin-hadoop3\"\n",
        "\n",
        "# 3. Initialize findspark and start Spark session\n",
        "import findspark\n",
        "findspark.init()\n",
        "\n",
        "from pyspark.sql import SparkSession\n",
        "\n",
        "spark = SparkSession.builder \\\n",
        "    .appName(\"Retail Sales Analytics\") \\\n",
        "    .getOrCreate()\n",
        "\n",
        "spark"
      ],
      "metadata": {
        "colab": {
          "base_uri": "https://localhost:8080/",
          "height": 219
        },
        "id": "ntIIA0xUdnpn",
        "outputId": "c94ac026-90eb-43f9-a240-e8b9812f1992"
      },
      "execution_count": 2,
      "outputs": [
        {
          "output_type": "execute_result",
          "data": {
            "text/plain": [
              "<pyspark.sql.session.SparkSession at 0x7b7ab9c64490>"
            ],
            "text/html": [
              "\n",
              "            <div>\n",
              "                <p><b>SparkSession - in-memory</b></p>\n",
              "                \n",
              "        <div>\n",
              "            <p><b>SparkContext</b></p>\n",
              "\n",
              "            <p><a href=\"http://ee5bc9847451:4040\">Spark UI</a></p>\n",
              "\n",
              "            <dl>\n",
              "              <dt>Version</dt>\n",
              "                <dd><code>v3.3.0</code></dd>\n",
              "              <dt>Master</dt>\n",
              "                <dd><code>local[*]</code></dd>\n",
              "              <dt>AppName</dt>\n",
              "                <dd><code>Retail Sales Analytics</code></dd>\n",
              "            </dl>\n",
              "        </div>\n",
              "        \n",
              "            </div>\n",
              "        "
            ]
          },
          "metadata": {},
          "execution_count": 2
        }
      ]
    },
    {
      "cell_type": "markdown",
      "source": [
        "**Step 2: Load Sample Retail Dataset**\n",
        "\n",
        "**Goal**: Create and load a small retail transaction dataset for testing. This will simulate real-world sales data across multiple stores."
      ],
      "metadata": {
        "id": "A6rnoHcffy9s"
      }
    },
    {
      "cell_type": "code",
      "source": [
        "import pandas as pd\n",
        "\n",
        "# Sample retail sales data\n",
        "data = {\n",
        "    \"TransactionID\": [1, 2, 3, 4, 5, 6, 7],\n",
        "    \"StoreID\": [101, 101, 102, 103, 101, 102, 103],\n",
        "    \"Product\": [\"A\", \"B\", \"A\", \"C\", \"B\", \"A\", \"C\"],\n",
        "    \"Quantity\": [5, 3, 2, 7, 1, 4, 2],\n",
        "    \"Price\": [100, 200, 100, 150, 200, 100, 150],\n",
        "    \"TransactionDate\": [\n",
        "        \"2024-01-10\", \"2024-01-15\", \"2024-02-01\", \"2024-02-05\",\n",
        "        \"2024-03-12\", \"2024-03-15\", \"2024-03-20\"\n",
        "    ]\n",
        "}\n",
        "\n",
        "# Convert to DataFrame and save as CSV\n",
        "df = pd.DataFrame(data)\n",
        "df.to_csv(\"/content/retail_data.csv\", index=False)"
      ],
      "metadata": {
        "id": "hv9M3W4Re59j"
      },
      "execution_count": 3,
      "outputs": []
    },
    {
      "cell_type": "markdown",
      "source": [
        "**Step 3: Read the CSV with PySpark**\n",
        "\n",
        "**Goal**: Read the CSV file into a Spark DataFrame, enabling efficient distributed processing and transformations."
      ],
      "metadata": {
        "id": "qH2NSTbUf_4x"
      }
    },
    {
      "cell_type": "code",
      "source": [
        "from pyspark.sql.functions import col, to_date\n",
        "\n",
        "# Load CSV using Spark\n",
        "retail_df = spark.read.csv(\"/content/retail_data.csv\", header=True, inferSchema=True)\n",
        "\n",
        "# Convert TransactionDate to date type\n",
        "retail_df = retail_df.withColumn(\"TransactionDate\", to_date(col(\"TransactionDate\"), \"yyyy-MM-dd\"))\n",
        "\n",
        "# Show sample rows\n",
        "retail_df.show()"
      ],
      "metadata": {
        "colab": {
          "base_uri": "https://localhost:8080/"
        },
        "id": "bDMUJe-VfAer",
        "outputId": "b83d00f2-ebdf-403c-8ac8-b46a2134edd0"
      },
      "execution_count": 4,
      "outputs": [
        {
          "output_type": "stream",
          "name": "stdout",
          "text": [
            "+-------------+-------+-------+--------+-----+---------------+\n",
            "|TransactionID|StoreID|Product|Quantity|Price|TransactionDate|\n",
            "+-------------+-------+-------+--------+-----+---------------+\n",
            "|            1|    101|      A|       5|  100|     2024-01-10|\n",
            "|            2|    101|      B|       3|  200|     2024-01-15|\n",
            "|            3|    102|      A|       2|  100|     2024-02-01|\n",
            "|            4|    103|      C|       7|  150|     2024-02-05|\n",
            "|            5|    101|      B|       1|  200|     2024-03-12|\n",
            "|            6|    102|      A|       4|  100|     2024-03-15|\n",
            "|            7|    103|      C|       2|  150|     2024-03-20|\n",
            "+-------------+-------+-------+--------+-----+---------------+\n",
            "\n"
          ]
        }
      ]
    },
    {
      "cell_type": "markdown",
      "source": [
        "**Step 4: Data Cleaning & Preparation**\n",
        "\n",
        "**Goal**: Prepare the data for analysis by:\n",
        "\n",
        "*   \tEnsuring correct data types (e.g., converting TransactionDate to DateType)\n",
        "\n",
        "*   \tCreating a new column TotalAmount (Quantity × Price)\n",
        "\n",
        "*   \tChecking for and removing any null values to avoid downstream errors\n",
        "\n",
        "\n"
      ],
      "metadata": {
        "id": "sbloZHXmgPWE"
      }
    },
    {
      "cell_type": "code",
      "source": [
        "from pyspark.sql.functions import col, to_date, isnan, isnull, expr\n",
        "\n",
        "# 1. Convert 'TransactionDate' to DateType\n",
        "retail_df = retail_df.withColumn(\"TransactionDate\", to_date(col(\"TransactionDate\"), \"yyyy-MM-dd\"))\n",
        "\n",
        "# 2. Create 'TotalAmount' = Quantity * Price\n",
        "retail_df = retail_df.withColumn(\"TotalAmount\", expr(\"Quantity * Price\"))\n",
        "\n",
        "# 3. Identify numeric and non-numeric columns\n",
        "numeric_cols = [field.name for field in retail_df.schema.fields if field.dataType.typeName() in ['double', 'integer', 'float', 'long']]\n",
        "non_numeric_cols = [field.name for field in retail_df.schema.fields if field.name not in numeric_cols]\n",
        "\n",
        "# 4. Check for nulls or NaNs\n",
        "null_exprs = [isnull(col(c)).alias(c) for c in non_numeric_cols] + \\\n",
        "             [(isnull(col(c)) | isnan(col(c))).alias(c) for c in numeric_cols]\n",
        "\n",
        "print(\"Null or NaN check for each column:\")\n",
        "retail_df.select(null_exprs).show()\n",
        "\n",
        "# 5. Drop rows with any missing values\n",
        "retail_df_clean = retail_df.dropna()\n",
        "\n",
        "# 6. View cleaned data\n",
        "retail_df_clean.show(5)"
      ],
      "metadata": {
        "colab": {
          "base_uri": "https://localhost:8080/"
        },
        "id": "bubqsM3HgrNh",
        "outputId": "3ce6a444-91e2-4f97-a20b-6849d0b264bf"
      },
      "execution_count": 8,
      "outputs": [
        {
          "output_type": "stream",
          "name": "stdout",
          "text": [
            "Null or NaN check for each column:\n",
            "+-------+---------------+-------------+-------+--------+-----+-----------+\n",
            "|Product|TransactionDate|TransactionID|StoreID|Quantity|Price|TotalAmount|\n",
            "+-------+---------------+-------------+-------+--------+-----+-----------+\n",
            "|  false|          false|        false|  false|   false|false|      false|\n",
            "|  false|          false|        false|  false|   false|false|      false|\n",
            "|  false|          false|        false|  false|   false|false|      false|\n",
            "|  false|          false|        false|  false|   false|false|      false|\n",
            "|  false|          false|        false|  false|   false|false|      false|\n",
            "|  false|          false|        false|  false|   false|false|      false|\n",
            "|  false|          false|        false|  false|   false|false|      false|\n",
            "+-------+---------------+-------------+-------+--------+-----+-----------+\n",
            "\n",
            "+-------------+-------+-------+--------+-----+---------------+-----------+\n",
            "|TransactionID|StoreID|Product|Quantity|Price|TransactionDate|TotalAmount|\n",
            "+-------------+-------+-------+--------+-----+---------------+-----------+\n",
            "|            1|    101|      A|       5|  100|     2024-01-10|        500|\n",
            "|            2|    101|      B|       3|  200|     2024-01-15|        600|\n",
            "|            3|    102|      A|       2|  100|     2024-02-01|        200|\n",
            "|            4|    103|      C|       7|  150|     2024-02-05|       1050|\n",
            "|            5|    101|      B|       1|  200|     2024-03-12|        200|\n",
            "+-------------+-------+-------+--------+-----+---------------+-----------+\n",
            "only showing top 5 rows\n",
            "\n"
          ]
        }
      ]
    },
    {
      "cell_type": "markdown",
      "source": [
        "**Step 5: KPI 1 – Total Sales Per Store**\n",
        "\n",
        "**Goal**: Calculate the total revenue generated by each store. This helps understand store-level performance."
      ],
      "metadata": {
        "id": "CEDKexjPhX7q"
      }
    },
    {
      "cell_type": "code",
      "source": [
        "# Total Sales per Store\n",
        "store_sales = retail_df.groupBy(\"StoreID\") \\\n",
        "                       .sum(\"TotalAmount\") \\\n",
        "                       .withColumnRenamed(\"sum(TotalAmount)\", \"TotalSales\")\n",
        "\n",
        "store_sales.show()"
      ],
      "metadata": {
        "colab": {
          "base_uri": "https://localhost:8080/"
        },
        "id": "K1BR_0nqhf5z",
        "outputId": "3fd3227c-8798-4664-aa3b-7c2719ad889d"
      },
      "execution_count": 9,
      "outputs": [
        {
          "output_type": "stream",
          "name": "stdout",
          "text": [
            "+-------+----------+\n",
            "|StoreID|TotalSales|\n",
            "+-------+----------+\n",
            "|    101|      1300|\n",
            "|    103|      1350|\n",
            "|    102|       600|\n",
            "+-------+----------+\n",
            "\n"
          ]
        }
      ]
    },
    {
      "cell_type": "markdown",
      "source": [
        "**Step 6: KPI 2 – Monthly Sales Trend**\n",
        "\n",
        "**Goal**: Analyze how sales fluctuate month-over-month to identify seasonal trends or promotional impact."
      ],
      "metadata": {
        "id": "y2UQvWoEhjWv"
      }
    },
    {
      "cell_type": "code",
      "source": [
        "from pyspark.sql.functions import month\n",
        "\n",
        "monthly_sales = retail_df.withColumn(\"Month\", month(\"TransactionDate\")) \\\n",
        "                         .groupBy(\"Month\") \\\n",
        "                         .sum(\"TotalAmount\") \\\n",
        "                         .withColumnRenamed(\"sum(TotalAmount)\", \"MonthlySales\") \\\n",
        "                         .orderBy(\"Month\")\n",
        "\n",
        "monthly_sales.show()"
      ],
      "metadata": {
        "colab": {
          "base_uri": "https://localhost:8080/"
        },
        "id": "fStEww2fhos7",
        "outputId": "44758dda-63d0-4134-c58f-29abca5c8e86"
      },
      "execution_count": 10,
      "outputs": [
        {
          "output_type": "stream",
          "name": "stdout",
          "text": [
            "+-----+------------+\n",
            "|Month|MonthlySales|\n",
            "+-----+------------+\n",
            "|    1|        1100|\n",
            "|    2|        1250|\n",
            "|    3|         900|\n",
            "+-----+------------+\n",
            "\n"
          ]
        }
      ]
    },
    {
      "cell_type": "markdown",
      "source": [
        "**Step 7: KPI 3 – Top-Selling Products**\n",
        "\n",
        "**Goal**: Identify which products contribute the most to total sales. Useful for inventory and marketing decisions."
      ],
      "metadata": {
        "id": "nqln6PfKh1yF"
      }
    },
    {
      "cell_type": "code",
      "source": [
        "# Aggregate total amount per product\n",
        "top_products = retail_df.groupBy(\"Product\") \\\n",
        "                        .sum(\"TotalAmount\") \\\n",
        "                        .withColumnRenamed(\"sum(TotalAmount)\", \"TotalSales\") \\\n",
        "                        .orderBy(col(\"TotalSales\").desc())\n",
        "\n",
        "top_products.show()"
      ],
      "metadata": {
        "colab": {
          "base_uri": "https://localhost:8080/"
        },
        "id": "Qq2_x4k2h5ji",
        "outputId": "765d0d9d-8bb4-43ef-a58b-b100b20ae708"
      },
      "execution_count": 11,
      "outputs": [
        {
          "output_type": "stream",
          "name": "stdout",
          "text": [
            "+-------+----------+\n",
            "|Product|TotalSales|\n",
            "+-------+----------+\n",
            "|      C|      1350|\n",
            "|      A|      1100|\n",
            "|      B|       800|\n",
            "+-------+----------+\n",
            "\n"
          ]
        }
      ]
    },
    {
      "cell_type": "markdown",
      "source": [
        "**Step 8: Save Cleaned Data as Parquet (for performance & downstream use)**"
      ],
      "metadata": {
        "id": "hW-ZrlrqiK7s"
      }
    },
    {
      "cell_type": "code",
      "source": [
        "# Save cleaned dataset as Parquet\n",
        "retail_df_clean.write.mode(\"overwrite\").parquet(\"/content/retail_cleaned.parquet\")"
      ],
      "metadata": {
        "id": "w-aqRXpQiQLv"
      },
      "execution_count": 12,
      "outputs": []
    },
    {
      "cell_type": "markdown",
      "source": [
        "**Step 9: Visualize KPIs Using matplotlib/seaborn**"
      ],
      "metadata": {
        "id": "DI0HAmXfiWfi"
      }
    },
    {
      "cell_type": "code",
      "source": [
        "import matplotlib.pyplot as plt\n",
        "import seaborn as sns\n",
        "import pandas as pd\n",
        "\n",
        "# Example KPI: Monthly Sales Trend\n",
        "monthly_sales = (retail_df_clean\n",
        "                 .groupBy(\"TransactionDate\")\n",
        "                 .agg({\"TotalAmount\": \"sum\"})\n",
        "                 .withColumnRenamed(\"sum(TotalAmount)\", \"MonthlySales\")\n",
        "                 .orderBy(\"TransactionDate\"))\n",
        "\n",
        "# Collect to driver for plotting\n",
        "monthly_sales_pd = monthly_sales.toPandas()\n",
        "\n",
        "# Plot\n",
        "plt.figure(figsize=(10, 5))\n",
        "sns.lineplot(data=monthly_sales_pd, x=\"TransactionDate\", y=\"MonthlySales\")\n",
        "plt.title(\"Monthly Sales Trend\")\n",
        "plt.xlabel(\"Date\")\n",
        "plt.ylabel(\"Sales\")\n",
        "plt.xticks(rotation=45)\n",
        "plt.tight_layout()\n",
        "plt.show()"
      ],
      "metadata": {
        "colab": {
          "base_uri": "https://localhost:8080/",
          "height": 507
        },
        "id": "AGpzZdxwiYj2",
        "outputId": "fa4a551d-7ad9-43d1-842b-8e4a05f9bac2"
      },
      "execution_count": 13,
      "outputs": [
        {
          "output_type": "display_data",
          "data": {
            "text/plain": [
              "<Figure size 1000x500 with 1 Axes>"
            ],
            "image/png": "[encoded data removed]"
          },
          "metadata": {}
        }
      ]
    },
    {
      "cell_type": "markdown",
      "source": [
        "**Top-Selling Products by Total Sales**"
      ],
      "metadata": {
        "id": "HiYYWuqrikig"
      }
    },
    {
      "cell_type": "code",
      "source": [
        "# Top-selling products\n",
        "top_products = (retail_df_clean\n",
        "                .groupBy(\"Product\")\n",
        "                .agg({\"TotalAmount\": \"sum\"})\n",
        "                .withColumnRenamed(\"sum(TotalAmount)\", \"TotalSales\")\n",
        "                .orderBy(\"TotalSales\", ascending=False)\n",
        "                .limit(10))\n",
        "\n",
        "# Convert to Pandas for plotting\n",
        "top_products_pd = top_products.toPandas()\n",
        "\n",
        "# Plot\n",
        "plt.figure(figsize=(10, 5))\n",
        "sns.barplot(data=top_products_pd, x=\"TotalSales\", y=\"Product\", palette=\"viridis\")\n",
        "plt.title(\"Top 10 Best-Selling Products\")\n",
        "plt.xlabel(\"Total Sales\")\n",
        "plt.ylabel(\"Product\")\n",
        "plt.tight_layout()\n",
        "plt.show()"
      ],
      "metadata": {
        "colab": {
          "base_uri": "https://localhost:8080/",
          "height": 614
        },
        "id": "jSLmjAhNipZ9",
        "outputId": "3468f428-f01a-4cb2-cf5c-f6caaaeeafe0"
      },
      "execution_count": 14,
      "outputs": [
        {
          "output_type": "stream",
          "name": "stderr",
          "text": [
            "<ipython-input-14-fada303d17b9>:14: FutureWarning: \n",
            "\n",
            "Passing `palette` without assigning `hue` is deprecated and will be removed in v0.14.0. Assign the `y` variable to `hue` and set `legend=False` for the same effect.\n",
            "\n",
            "  sns.barplot(data=top_products_pd, x=\"TotalSales\", y=\"Product\", palette=\"viridis\")\n"
          ]
        },
        {
          "output_type": "display_data",
          "data": {
            "text/plain": [
              "<Figure size 1000x500 with 1 Axes>"
            ],
            "image/png": "[encoded data removed]"
          },
          "metadata": {}
        }
      ]
    },
    {
      "cell_type": "markdown",
      "source": [
        "**Sales Distribution by Store**"
      ],
      "metadata": {
        "id": "m3lLLa1_isIM"
      }
    },
    {
      "cell_type": "code",
      "source": [
        "# Sales by store\n",
        "store_sales = (retail_df_clean\n",
        "               .groupBy(\"StoreID\")\n",
        "               .agg({\"TotalAmount\": \"sum\"})\n",
        "               .withColumnRenamed(\"sum(TotalAmount)\", \"TotalSales\")\n",
        "               .orderBy(\"TotalSales\", ascending=False))\n",
        "\n",
        "# Convert to Pandas\n",
        "store_sales_pd = store_sales.toPandas()\n",
        "\n",
        "# Plot\n",
        "plt.figure(figsize=(10, 5))\n",
        "sns.barplot(data=store_sales_pd, x=\"StoreID\", y=\"TotalSales\", palette=\"mako\")\n",
        "plt.title(\"Sales by Store\")\n",
        "plt.xlabel(\"Store ID\")\n",
        "plt.ylabel(\"Total Sales\")\n",
        "plt.tight_layout()\n",
        "plt.show()"
      ],
      "metadata": {
        "colab": {
          "base_uri": "https://localhost:8080/",
          "height": 614
        },
        "id": "c5E7S3V1iwBZ",
        "outputId": "7bdbe3fd-0f15-4493-e229-ad31d7bb2cd1"
      },
      "execution_count": 15,
      "outputs": [
        {
          "output_type": "stream",
          "name": "stderr",
          "text": [
            "<ipython-input-15-7f2dc196ca5a>:13: FutureWarning: \n",
            "\n",
            "Passing `palette` without assigning `hue` is deprecated and will be removed in v0.14.0. Assign the `x` variable to `hue` and set `legend=False` for the same effect.\n",
            "\n",
            "  sns.barplot(data=store_sales_pd, x=\"StoreID\", y=\"TotalSales\", palette=\"mako\")\n"
          ]
        },
        {
          "output_type": "display_data",
          "data": {
            "text/plain": [
              "<Figure size 1000x500 with 1 Axes>"
            ],
            "image/png": "[encoded data removed]"
          },
          "metadata": {}
        }
      ]
    }
  ]
}